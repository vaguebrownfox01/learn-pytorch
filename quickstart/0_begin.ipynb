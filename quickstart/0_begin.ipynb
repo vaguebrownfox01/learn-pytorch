{
 "cells": [
  {
   "cell_type": "code",
   "execution_count": 37,
   "metadata": {},
   "outputs": [],
   "source": [
    "import torch\n",
    "from torch import nn\n",
    "from torch.utils.data import DataLoader\n",
    "from torchvision import datasets\n",
    "from torchvision.transforms import ToTensor"
   ]
  },
  {
   "cell_type": "code",
   "execution_count": 38,
   "metadata": {},
   "outputs": [],
   "source": [
    "# Download training data from open datasets.\n",
    "training_data = datasets.FashionMNIST(\n",
    "    root=\"data\",\n",
    "    train=True,\n",
    "    download=True,\n",
    "    transform=ToTensor(),\n",
    ")\n",
    "\n",
    "# Download test data from open datasets.\n",
    "test_data = datasets.FashionMNIST(\n",
    "    root=\"data\",\n",
    "    train=False,\n",
    "    download=True,\n",
    "    transform=ToTensor(),\n",
    ")"
   ]
  },
  {
   "cell_type": "code",
   "execution_count": 39,
   "metadata": {},
   "outputs": [
    {
     "name": "stdout",
     "output_type": "stream",
     "text": [
      "Shape of X [N, C, H, W]:  torch.Size([64, 1, 28, 28])\n",
      "Shape of y:  torch.Size([64]) torch.int64\n"
     ]
    }
   ],
   "source": [
    "batch_size = 64\n",
    "\n",
    "# Create data loaders.\n",
    "train_dataloader = DataLoader(training_data, batch_size=batch_size)\n",
    "test_dataloader = DataLoader(test_data, batch_size=batch_size)\n",
    "\n",
    "for X, y in test_dataloader:\n",
    "    print(\"Shape of X [N, C, H, W]: \", X.shape)\n",
    "    print(\"Shape of y: \", y.shape, y.dtype)\n",
    "    break"
   ]
  },
  {
   "cell_type": "code",
   "execution_count": 40,
   "metadata": {},
   "outputs": [
    {
     "name": "stdout",
     "output_type": "stream",
     "text": [
      "Using cpu device\n"
     ]
    }
   ],
   "source": [
    "# Get cpu or gpu device for training.\n",
    "device = \"cuda\" if torch.cuda.is_available() else \"cpu\"\n",
    "print(\"Using {} device\".format(device))"
   ]
  },
  {
   "cell_type": "code",
   "execution_count": 41,
   "metadata": {},
   "outputs": [
    {
     "name": "stdout",
     "output_type": "stream",
     "text": [
      "NeuralNetwork(\n",
      "  (flatten): Flatten(start_dim=1, end_dim=-1)\n",
      "  (linear_relu_stack): Sequential(\n",
      "    (0): Linear(in_features=784, out_features=512, bias=True)\n",
      "    (1): ReLU()\n",
      "    (2): Linear(in_features=512, out_features=512, bias=True)\n",
      "    (3): ReLU()\n",
      "    (4): Linear(in_features=512, out_features=512, bias=True)\n",
      "    (5): ReLU()\n",
      "    (6): Linear(in_features=512, out_features=10, bias=True)\n",
      "    (7): ReLU()\n",
      "  )\n",
      ")\n"
     ]
    }
   ],
   "source": [
    "# Define model\n",
    "\n",
    "class NeuralNetwork(nn.Module):\n",
    "    def __init__(self):\n",
    "        super().__init__()\n",
    "\n",
    "        # Flatten the input image from 28x28 to 784\n",
    "        self.flatten = nn.Flatten()\n",
    "\n",
    "        # 784 input features, 64 output features\n",
    "        self.linear_relu_stack = nn.Sequential(\n",
    "            nn.Linear(28*28, 512),\n",
    "            nn.ReLU(),\n",
    "            nn.Linear(512, 512),\n",
    "            nn.ReLU(),\n",
    "            nn.Linear(512, 512),\n",
    "            nn.ReLU(),\n",
    "            nn.Linear(512, 10),\n",
    "            nn.ReLU()\n",
    "        )\n",
    "\n",
    "    def forward(self, x):\n",
    "        x = self.flatten(x)\n",
    "        logits = self.linear_relu_stack(x)\n",
    "        return logits\n",
    "\n",
    "\n",
    "model = NeuralNetwork().to(device)\n",
    "print(model)\n"
   ]
  },
  {
   "cell_type": "code",
   "execution_count": 42,
   "metadata": {},
   "outputs": [
    {
     "name": "stdout",
     "output_type": "stream",
     "text": [
      "torch.Size([512, 784])\n",
      "torch.Size([512])\n",
      "torch.Size([512, 512])\n",
      "torch.Size([512])\n",
      "torch.Size([512, 512])\n",
      "torch.Size([512])\n",
      "torch.Size([10, 512])\n",
      "torch.Size([10])\n"
     ]
    }
   ],
   "source": [
    "for param in model.parameters():\n",
    "    print(param.shape)"
   ]
  },
  {
   "cell_type": "code",
   "execution_count": 43,
   "metadata": {},
   "outputs": [],
   "source": [
    "# Optimizing the Model Parameters\n",
    "\n",
    "loss_fn = nn.CrossEntropyLoss()\n",
    "optimizer = torch.optim.SGD(model.parameters(), lr=1e-3)"
   ]
  },
  {
   "cell_type": "code",
   "execution_count": 44,
   "metadata": {},
   "outputs": [],
   "source": [
    "def train(dataloader, model, loss_fn, optimizer):\n",
    "    \n",
    "    size = len(dataloader.dataset)\n",
    "\n",
    "    model.train()\n",
    "\n",
    "    for batch, (X, y) in enumerate(dataloader):\n",
    "\n",
    "        X, y = X.to(device), y.to(device)\n",
    "\n",
    "        # Compute prediction error\n",
    "        pred = model(X)\n",
    "        loss = loss_fn(pred, y)\n",
    "\n",
    "        # Backpropagation\n",
    "        loss.backward()\n",
    "        optimizer.step()\n",
    "        optimizer.zero_grad()\n",
    "\n",
    "        if batch % 100 == 0:\n",
    "            loss, current = loss.item(), (batch + 1) * len(X)\n",
    "            print(f\"loss: {loss:>7f}  [{current:>5d}/{size:>5d}]\")\n"
   ]
  },
  {
   "cell_type": "code",
   "execution_count": 45,
   "metadata": {},
   "outputs": [],
   "source": [
    "def test(data_loader, model, loss_fn):\n",
    "\n",
    "    size = len(data_loader.dataset)\n",
    "    num_batches = len(data_loader)\n",
    "    model.eval()\n",
    "\n",
    "    test_loss, correct = 0, 0\n",
    "\n",
    "    with torch.no_grad():\n",
    "        for X, y in data_loader:\n",
    "\n",
    "            X, y = X.to(device), y.to(device)\n",
    "\n",
    "            pred = model(X)\n",
    "            test_loss += loss_fn(pred, y).item()\n",
    "            correct += (pred.argmax(1) == y).type(torch.float).sum().item()\n",
    "\n",
    "    test_loss /= num_batches\n",
    "    correct /= size\n",
    "\n",
    "    print(f\"Test Error: \\n Accuracy: {(100*correct):>0.1f}%, Avg loss: {test_loss:>8f} \\n\")"
   ]
  },
  {
   "cell_type": "code",
   "execution_count": 48,
   "metadata": {},
   "outputs": [
    {
     "name": "stdout",
     "output_type": "stream",
     "text": [
      "Epoch 1\n",
      "-------------------------------\n",
      "loss: 2.211623  [   64/60000]\n",
      "loss: 2.219437  [ 6464/60000]\n",
      "loss: 2.178976  [12864/60000]\n",
      "loss: 2.127076  [19264/60000]\n",
      "loss: 2.157579  [25664/60000]\n",
      "loss: 2.205688  [32064/60000]\n",
      "loss: 2.083064  [38464/60000]\n",
      "loss: 2.137163  [44864/60000]\n",
      "loss: 2.141768  [51264/60000]\n",
      "loss: 2.053479  [57664/60000]\n",
      "Test Error: \n",
      " Accuracy: 37.8%, Avg loss: 2.087874 \n",
      "\n",
      "Epoch 2\n",
      "-------------------------------\n",
      "loss: 2.164294  [   64/60000]\n",
      "loss: 2.171742  [ 6464/60000]\n",
      "loss: 2.112392  [12864/60000]\n",
      "loss: 2.019309  [19264/60000]\n",
      "loss: 2.078426  [25664/60000]\n",
      "loss: 2.161372  [32064/60000]\n",
      "loss: 1.967560  [38464/60000]\n",
      "loss: 2.057731  [44864/60000]\n",
      "loss: 2.065075  [51264/60000]\n",
      "loss: 1.934729  [57664/60000]\n",
      "Test Error: \n",
      " Accuracy: 38.0%, Avg loss: 1.992295 \n",
      "\n",
      "Epoch 3\n",
      "-------------------------------\n",
      "loss: 2.109200  [   64/60000]\n",
      "loss: 2.114212  [ 6464/60000]\n",
      "loss: 2.040047  [12864/60000]\n",
      "loss: 1.900954  [19264/60000]\n",
      "loss: 1.993608  [25664/60000]\n",
      "loss: 2.115875  [32064/60000]\n",
      "loss: 1.852671  [38464/60000]\n",
      "loss: 1.983350  [44864/60000]\n",
      "loss: 1.986236  [51264/60000]\n",
      "loss: 1.828664  [57664/60000]\n",
      "Test Error: \n",
      " Accuracy: 39.0%, Avg loss: 1.904223 \n",
      "\n",
      "Epoch 4\n",
      "-------------------------------\n",
      "loss: 2.049428  [   64/60000]\n",
      "loss: 2.053889  [ 6464/60000]\n",
      "loss: 1.966498  [12864/60000]\n",
      "loss: 1.796907  [19264/60000]\n",
      "loss: 1.907659  [25664/60000]\n",
      "loss: 2.065782  [32064/60000]\n",
      "loss: 1.757078  [38464/60000]\n",
      "loss: 1.916481  [44864/60000]\n",
      "loss: 1.912409  [51264/60000]\n",
      "loss: 1.743144  [57664/60000]\n",
      "Test Error: \n",
      " Accuracy: 41.1%, Avg loss: 1.826541 \n",
      "\n",
      "Epoch 5\n",
      "-------------------------------\n",
      "loss: 1.986245  [   64/60000]\n",
      "loss: 1.993501  [ 6464/60000]\n",
      "loss: 1.892299  [12864/60000]\n",
      "loss: 1.706328  [19264/60000]\n",
      "loss: 1.823384  [25664/60000]\n",
      "loss: 2.009842  [32064/60000]\n",
      "loss: 1.678023  [38464/60000]\n",
      "loss: 1.853385  [44864/60000]\n",
      "loss: 1.849115  [51264/60000]\n",
      "loss: 1.674762  [57664/60000]\n",
      "Test Error: \n",
      " Accuracy: 42.7%, Avg loss: 1.759503 \n",
      "\n",
      "Epoch 6\n",
      "-------------------------------\n",
      "loss: 1.925318  [   64/60000]\n",
      "loss: 1.938549  [ 6464/60000]\n",
      "loss: 1.820973  [12864/60000]\n",
      "loss: 1.617411  [19264/60000]\n",
      "loss: 1.734786  [25664/60000]\n",
      "loss: 1.870332  [32064/60000]\n",
      "loss: 1.620094  [38464/60000]\n",
      "loss: 1.770615  [44864/60000]\n",
      "loss: 1.740266  [51264/60000]\n",
      "loss: 1.492303  [57664/60000]\n",
      "Test Error: \n",
      " Accuracy: 43.2%, Avg loss: 1.637761 \n",
      "\n",
      "Epoch 7\n",
      "-------------------------------\n",
      "loss: 1.857702  [   64/60000]\n",
      "loss: 1.882623  [ 6464/60000]\n",
      "loss: 1.708265  [12864/60000]\n",
      "loss: 1.484585  [19264/60000]\n",
      "loss: 1.665909  [25664/60000]\n",
      "loss: 1.771593  [32064/60000]\n",
      "loss: 1.564847  [38464/60000]\n",
      "loss: 1.710500  [44864/60000]\n",
      "loss: 1.677407  [51264/60000]\n",
      "loss: 1.421320  [57664/60000]\n",
      "Test Error: \n",
      " Accuracy: 44.3%, Avg loss: 1.572254 \n",
      "\n",
      "Epoch 8\n",
      "-------------------------------\n",
      "loss: 1.791685  [   64/60000]\n",
      "loss: 1.827831  [ 6464/60000]\n",
      "loss: 1.634856  [12864/60000]\n",
      "loss: 1.423693  [19264/60000]\n",
      "loss: 1.599766  [25664/60000]\n",
      "loss: 1.700209  [32064/60000]\n",
      "loss: 1.511412  [38464/60000]\n",
      "loss: 1.656138  [44864/60000]\n",
      "loss: 1.622448  [51264/60000]\n",
      "loss: 1.365846  [57664/60000]\n",
      "Test Error: \n",
      " Accuracy: 44.9%, Avg loss: 1.517866 \n",
      "\n",
      "Epoch 9\n",
      "-------------------------------\n",
      "loss: 1.728333  [   64/60000]\n",
      "loss: 1.777108  [ 6464/60000]\n",
      "loss: 1.572125  [12864/60000]\n",
      "loss: 1.377841  [19264/60000]\n",
      "loss: 1.548418  [25664/60000]\n",
      "loss: 1.639825  [32064/60000]\n",
      "loss: 1.466826  [38464/60000]\n",
      "loss: 1.613426  [44864/60000]\n",
      "loss: 1.576358  [51264/60000]\n",
      "loss: 1.318949  [57664/60000]\n",
      "Test Error: \n",
      " Accuracy: 45.7%, Avg loss: 1.474442 \n",
      "\n",
      "Epoch 10\n",
      "-------------------------------\n",
      "loss: 1.674361  [   64/60000]\n",
      "loss: 1.733872  [ 6464/60000]\n",
      "loss: 1.524296  [12864/60000]\n",
      "loss: 1.344775  [19264/60000]\n",
      "loss: 1.509536  [25664/60000]\n",
      "loss: 1.592689  [32064/60000]\n",
      "loss: 1.428828  [38464/60000]\n",
      "loss: 1.579549  [44864/60000]\n",
      "loss: 1.539617  [51264/60000]\n",
      "loss: 1.280414  [57664/60000]\n",
      "Test Error: \n",
      " Accuracy: 46.9%, Avg loss: 1.440484 \n",
      "\n",
      "Done!\n"
     ]
    }
   ],
   "source": [
    "# The training process is conducted over several iterations (epochs). During each epoch, the model learns parameters to make better predictions. We print the model’s accuracy and loss at each epoch; we’d like to see the accuracy increase and the loss decrease with every epoch.\n",
    "\n",
    "epochs = 10\n",
    "for t in range(epochs):\n",
    "    print(f\"Epoch {t+1}\\n-------------------------------\")\n",
    "    train(train_dataloader, model, loss_fn, optimizer)\n",
    "    test(test_dataloader, model, loss_fn)\n",
    "print(\"Done!\")\n"
   ]
  },
  {
   "cell_type": "code",
   "execution_count": 49,
   "metadata": {},
   "outputs": [
    {
     "name": "stdout",
     "output_type": "stream",
     "text": [
      "Saved PyTorch Model State to model.pth\n"
     ]
    }
   ],
   "source": [
    "# saving and loading model\n",
    "\n",
    "torch.save(model.state_dict(), \"model.pth\")\n",
    "print(\"Saved PyTorch Model State to model.pth\")"
   ]
  },
  {
   "cell_type": "code",
   "execution_count": 50,
   "metadata": {},
   "outputs": [
    {
     "data": {
      "text/plain": [
       "<All keys matched successfully>"
      ]
     },
     "execution_count": 50,
     "metadata": {},
     "output_type": "execute_result"
    }
   ],
   "source": [
    "# Load model\n",
    "\n",
    "model_load = NeuralNetwork().to(device)\n",
    "model_load.load_state_dict(torch.load(\"model.pth\"))"
   ]
  },
  {
   "cell_type": "code",
   "execution_count": 56,
   "metadata": {},
   "outputs": [],
   "source": [
    "import numpy as np"
   ]
  },
  {
   "cell_type": "code",
   "execution_count": 75,
   "metadata": {},
   "outputs": [
    {
     "name": "stdout",
     "output_type": "stream",
     "text": [
      "Predicted: \"Pullover\", Actual: \"Coat\"\n"
     ]
    }
   ],
   "source": [
    "classes = [\n",
    "    \"T-shirt/top\",\n",
    "    \"Trouser\",\n",
    "    \"Pullover\",\n",
    "    \"Dress\",\n",
    "    \"Coat\",\n",
    "    \"Sandal\",\n",
    "    \"Shirt\",\n",
    "    \"Sneaker\",\n",
    "    \"Bag\",\n",
    "    \"Ankle boot\",\n",
    "]\n",
    "\n",
    "model.eval()\n",
    "i = np.random.randint(0, len(test_data))\n",
    "x, y = test_data[i][0], test_data[i][1]\n",
    "with torch.no_grad():\n",
    "    x = x.to(device)\n",
    "    pred = model(x)\n",
    "    predicted, actual = classes[pred[0].argmax(0)], classes[y]\n",
    "    print(f'Predicted: \"{predicted}\", Actual: \"{actual}\"')"
   ]
  }
 ],
 "metadata": {
  "kernelspec": {
   "display_name": "pytorch",
   "language": "python",
   "name": "python3"
  },
  "language_info": {
   "codemirror_mode": {
    "name": "ipython",
    "version": 3
   },
   "file_extension": ".py",
   "mimetype": "text/x-python",
   "name": "python",
   "nbconvert_exporter": "python",
   "pygments_lexer": "ipython3",
   "version": "3.9.7"
  },
  "orig_nbformat": 4
 },
 "nbformat": 4,
 "nbformat_minor": 2
}
